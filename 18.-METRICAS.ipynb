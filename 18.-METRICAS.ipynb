{
 "cells": [
  {
   "cell_type": "markdown",
   "metadata": {},
   "source": [
    "# 8- MÉTRICAS"
   ]
  },
  {
   "cell_type": "markdown",
   "metadata": {},
   "source": [
    " La rápida expansión de NILM y el desarrollo de diferentes algoritmos, han hecho que sea esencial proporcionar una evaluación de rendimiento mediante el uso de métricas de desempeño. Las métricas de evaluación, comparan los resultados de la desagregaciónn (predicciones) de los modelos entrenados con los datos del set de validación (mediciones reales de cada proceso). NILMTK cuenta con el cálculo de métricas de evaluación mediante el uso del MeterGroup para la validación de los resultados mediante el set de validación \n",
    " Vamos ahora analizar en nuestro dataset diferentes metricas como son FEAC,F1, EAE ,MNEAP y RMSE  que  resumimos a continuacion en el siguinte cuadro:"
   ]
  },
  {
   "cell_type": "markdown",
   "metadata": {},
   "source": [
    "![metricas](metricas.jpg)"
   ]
  },
  {
   "cell_type": "markdown",
   "metadata": {},
   "source": [
    "En primer lugar cargamos las ibrerías y realizamos otros ajustes:"
   ]
  },
  {
   "cell_type": "code",
   "execution_count": 5,
   "metadata": {},
   "outputs": [],
   "source": [
    "%matplotlib inline\n",
    "import pandas as pd\n",
    "import numpy as np\n",
    "import matplotlib.pyplot as plt\n",
    "from matplotlib import rcParams\n",
    "import warnings\n",
    "warnings. filterwarnings(\"ignore\")\n",
    "plt.style.use('bmh')\n",
    "\n",
    "from nilmtk import TimeFrame, MeterGroup, HDFDataStore, DataSet\n",
    "from nilmtk.metrics import fraction_energy_assigned_correctly, mean_normalized_error_power\n",
    "from nilmtk.metrics import rms_error_power, f1_score, error_in_assigned_energy\n",
    "\n",
    "data_dir='./data/'"
   ]
  },
  {
   "cell_type": "markdown",
   "metadata": {},
   "source": [
    "### Métricas individuales del modelo"
   ]
  },
  {
   "cell_type": "code",
   "execution_count": 6,
   "metadata": {},
   "outputs": [],
   "source": [
    "#Librerías\n",
    "from nilmtk.metrics import f1_score\n",
    "from nilmtk.metrics import error_in_assigned_energy\n",
    "from nilmtk.metrics import mean_normalized_error_power\n",
    "from nilmtk.metrics import rms_error_power\n",
    "from nilmtk.metrics import fraction_energy_assigned_correctly"
   ]
  },
  {
   "cell_type": "code",
   "execution_count": null,
   "metadata": {},
   "outputs": [
    {
     "name": "stdout",
     "output_type": "stream",
     "text": [
      "Medidor de cabecera para desagregación:\n",
      "ElecMeter(instance=1, building=1, dataset='dsualmh', site_meter, appliances=[])\n",
      "\n",
      "Dispositivos para validación de entrenamiento:\n",
      "MeterGroup(meters=\n",
      "  ElecMeter(instance=2, building=1, dataset='dsualmh', appliances=[Appliance(type='fan', instance=1)])\n",
      "  ElecMeter(instance=3, building=1, dataset='dsualmh', appliances=[Appliance(type='freezer', instance=1)])\n",
      "  ElecMeter(instance=4, building=1, dataset='dsualmh', appliances=[Appliance(type='television', instance=1)])\n",
      "  ElecMeter(instance=5, building=1, dataset='dsualmh', appliances=[Appliance(type='vacuum cleaner', instance=1)])\n",
      "  ElecMeter(instance=6, building=1, dataset='dsualmh', appliances=[Appliance(type='boiler', instance=1)])\n",
      ")\n"
     ]
    }
   ],
   "source": [
    "labels = pd.DataFrame({'Instances': list(range(1,7)),\n",
    "                       'Meters': ['Main', 'Boiler', 'Fan','Freezer', 'Television','Vacuum cleaner']})\n",
    " \n",
    "\n",
    "#Set para validación\n",
    "valid = DataSet('dsualmh.h5')\n",
    "valid.set_window(start=\"2022-02-02 11:00:00\", end=\"2022-02-02 12:00:00\")\n",
    "valid_elec = valid.buildings[1].elec\n",
    "\n",
    "print('Medidor de cabecera para desagregación:')\n",
    "valid_Main = valid_elec.mains()\n",
    "print(valid_Main)\n",
    "\n",
    "print('\\nDispositivos para validación de entrenamiento:')\n",
    "valid_Devices = valid_elec.select(instance=[2,3,4,5,6])\n",
    "print(valid_Devices)\n",
    "\n",
    "\n",
    "\n",
    "\n",
    "\n",
    "\n",
    "index = list(labels['Meters'][1:6])\n",
    "met = []\n",
    "e = []\n",
    "#Datos de Dispositivos: predicción\n",
    "#dataset=DataSet(data_dir+'NILM/Results/FHMM_30s_first_pred.h5')\n",
    "#Boiler\tFan\tFreezer\tTelevision\tVacuum cleaner\n",
    "#F1\t0.756\t0.550\t0.493\t0.824\t0.697\n",
    "#EAE\t0.000\t0.000\t0.000\t0.000\t0.000\n",
    "#MNEAP\t0.636\t0.610\t1.105\t1.163\t0.486\n",
    "#RMSE\t920.526\t22.118\t40.123\t28.247\t394.057\n",
    "\n",
    "\n",
    "#dataset=DataSet(data_dir+'NILM/Results/CO_30s_median_pred.h5')\n",
    "#Boiler\tFan\tFreezer\tTelevision\tVacuum cleaner\n",
    "#F1\t1.000\t0.671\t0.745\t0.762\t0.966\n",
    "#EAE\t0.000\t0.000\t0.000\t0.000\t0.000\n",
    "#MNEAP\t0.021\t0.636\t0.895\t0.799\t0.042\n",
    "#RMSE\t41.882\t22.195\t35.900\t23.189\t46.017\n",
    "\n",
    "\n",
    "\n",
    "#dataset=DataSet(data_dir+'NILM/Results/FHMM_1s_first_pred.h5')\n",
    "#Boiler\tFan\tFreezer\tTelevision\tVacuum cleaner\n",
    "#F1\t0.765\t0.511\t0.479\t0.991\t0.726\n",
    "#EAE\t0.000\t0.000\t0.000\t0.000\t0.000\n",
    "#MNEAP\t0.624\t0.641\t1.587\t0.796\t0.441\n",
    "#RMSE\t913.156\t22.996\t56.590\t23.360\t380.634\n",
    "\n",
    "\n",
    "#el mejor*****************************\n",
    "dataset=DataSet(data_dir+'NILM/Results/CO_1s_first_pred.h5')\n",
    "#\tBoiler\tFan\tFreezer\tTelevision\tVacuum cleaner\n",
    "#F1\t1.000\t0.624\t0.749\t0.897\t0.999\n",
    "#EAE\t0.000\t0.000\t0.000\t0.000\t0.000\n",
    "#MNEAP\t0.017\t0.695\t1.693\t1.001\t0.070\n",
    "#RMSE\t31.708\t23.373\t122.468\t26.825\t99.252\n",
    "\n",
    "\n",
    "\n",
    "#dataset=DataSet(data_dir+'NILM/Results/CO_10s_first_pred.h5')\n",
    "#\tBoiler\tFan\tFreezer\tTelevision\tVacuum cleaner\n",
    "#F1\t0.998\t0.680\t0.729\t0.847\t0.992\n",
    "#EAE\t0.000\t0.000\t0.000\t0.000\t0.000\n",
    "#MNEAP\t0.018\t0.679\t0.915\t0.692\t0.048\n",
    "#RMSE\t25.207\t23.380\t36.436\t21.414\t70.580\n",
    "\n",
    "\n",
    "\n",
    "\n",
    "#dataset=DataSet(data_dir+'NILM/Results/FHMM_10s_first_pred.h5')\n",
    "#Boiler\tFan\tFreezer\tTelevision\tVacuum cleaner\n",
    "#F1\t0.761\t0.632\t0.458\t0.929\t0.715\n",
    "#EAE\t0.000\t0.000\t0.000\t0.000\t0.000\n",
    "#MNEAP\t0.628\t0.481\t1.298\t1.069\t0.455\n",
    "#RMSE\t915.541\t19.827\t44.707\t27.111\t384.315\n",
    "\n",
    "\n",
    "\n",
    "\n",
    "\n",
    "\n",
    "\n",
    "\n",
    "predictions=dataset.buildings[1].elec.submeters()      \n",
    "\n",
    "#Metricas\n",
    "f1 = {}; eae = {}; feac = {}; mneap = {}; rmse = {};\n",
    "\n",
    "f1['F1'] = f1_score(predictions, valid_Devices)\n",
    "\n",
    "EAE = error_in_assigned_energy(predictions, valid_Devices)\n",
    "\n",
    "for x in range(len(EAE)): e.append(EAE.iloc[x][0])\n",
    "eae['EAE'] = e\n",
    "#da error esta medida AttributeError: 'tuple' object has no attribute 'instance'\n",
    "#feac['FEAC'] = np.ones(6)*(fraction_energy_assigned_correctly(predictions, valid_Devices))\n",
    "#feac['FEAC'] = np.ones(6)*(fraction_energy_assigned_correctly(predictions, valid_Devices))\n",
    "mneap['MNEAP'] = mean_normalized_error_power(predictions, valid_Devices)\n",
    "rmse['RMSE'] = rms_error_power(predictions, valid_Devices)\n",
    "met.append(pd.concat([pd.DataFrame(feac, index=valid_Devices.instance()),\n",
    "                      pd.DataFrame(f1),\n",
    "                      pd.DataFrame(eae, index=valid_Devices.instance()),\n",
    "                      pd.DataFrame(mneap),\n",
    "                      pd.DataFrame(rmse)],\n",
    "                     axis=1).set_index(pd.Index(index)))\n",
    "\n",
    "dataset.store.close()       \n",
    "print('\\n\\nDone!')\n",
    "metrics=met[0].transpose().round(3)\n",
    "metrics"
   ]
  },
  {
   "cell_type": "markdown",
   "metadata": {},
   "source": [
    "Carga de datos de predicciones y GT en memoria"
   ]
  },
  {
   "cell_type": "code",
   "execution_count": null,
   "metadata": {},
   "outputs": [],
   "source": [
    "gt=valid_elec.dataframe_of_meters(ac_type='active', sample_period=1, resample_kwargs={'how':'first'})\n",
    "\n",
    "labels = pd.DataFrame({'Instances': list(range(1,7)),\n",
    "                       'Meters': ['main',  'boiler', 'fan', 'freezer', 'television','vacuum cleaner']})\n",
    "\n",
    "Meters={}\n",
    "for x in range(len(labels)): Meters[valid_elec[x+1]]=labels['Meters'][x]\n",
    "    \n",
    "\n",
    "    \n",
    "    \n",
    "#resultados de predicción modelo CO 30s\n",
    "#CO_30s_first=DataSet(data_dir+'NILM/Results/CO_30s_first_pred.h5')\n",
    "CO_30s_first=DataSet(data_dir+'NILM/Results/CO_1s_median_pred.h5')\n",
    "\n",
    "elec_CO_30s_first=CO_30s_first.buildings[1].elec\n",
    "\n",
    "#resultados de predicción modelo FHMM 30s\n",
    "FHMM_30s_first=DataSet(data_dir+'NILM/Results/FHMM_1s_median_pred.h5')\n",
    "elec_FHMM_30s_first= FHMM_30s_first.buildings[1].elec    \n",
    "    \n",
    "    \n",
    "\n",
    "gt.columns=list(Meters.values())\n",
    "pred_CO=elec_CO_30s_first.dataframe_of_meters(ac_type='active')\n",
    "\n",
    "pred_CO.columns=[list(Meters.values())[0]]+list(Meters.values())[1:6]\n",
    "\n",
    "pred_FHMM=elec_FHMM_30s_first.dataframe_of_meters(ac_type='active')\n",
    "\n",
    "pred_FHMM.columns=[list(Meters.values())[0]]+list(Meters.values())[1:6]"
   ]
  },
  {
   "cell_type": "markdown",
   "metadata": {},
   "source": [
    "### Análisis particular del cálculo de cada métrica\n",
    "\n",
    "Metrica FEAC ( da problema con AttributeError: 'tuple' object has no attribute 'instance')"
   ]
  },
  {
   "cell_type": "code",
   "execution_count": null,
   "metadata": {},
   "outputs": [],
   "source": [
    "#Carga de datos de predicciones y GT en memoria\n",
    "#gt=valid_elec.dataframe_of_meters(ac_type='active', sample_period=60, resample_kwargs={'how':'first'})\n",
    "#gt.columns=list(Meters.values())"
   ]
  },
  {
   "cell_type": "code",
   "execution_count": null,
   "metadata": {},
   "outputs": [],
   "source": [
    "#predictions_Devices=elec_CO_60s_first.submeters()\n",
    "\n",
    "#frac_1 = valid_Devices.fraction_per_meter()\n",
    "#frac_2 = predictions_Devices.fraction_per_meter()\n",
    "#fig, (ax1, ax2) = plt.subplots(1, 2 ,gridspec_kw={'hspace': 0.1, 'wspace': 0.1})\n",
    "\n",
    "#frac_1.plot(autopct=lambda p:'{:.0f}%'.format(p), kind='pie',labels=list(Meters.values())[1:6], figsize=(8,8), ax=ax1,   colors=['tab:blue','tab:orange','tab:green','tab:olive','tab:purple','tab:cyan'])\n",
    "#frac_2.plot(autopct=lambda p:'{:.0f}%'.format(p), kind='pie',  labels=list(Meters.values())[1:6], figsize=(8,8), ax=ax2,  colors=['tab:blue','tab:orange','tab:green','tab:olive','tab:purple','tab:cyan']) \n",
    "\n",
    "#ax1.set(ylabel=\"\")\n",
    "#ax1.set(xlabel=\"GT\")\n",
    "#ax2.set(ylabel=\"\")\n",
    "#ax2.set(xlabel=\"Predictions\")\n",
    "#plt.savefig('./data/images/5.4_FEAC_CO_60s.svg', bbox_inches='tight', transparent=True)\n",
    "#pass"
   ]
  },
  {
   "cell_type": "markdown",
   "metadata": {},
   "source": [
    "## Métrica F1"
   ]
  },
  {
   "cell_type": "markdown",
   "metadata": {},
   "source": [
    "Esta métrica mide la precisión o asertividad del modelo entrenado mediante el cálculo de la media armónica utilizando las métricas Precision y Recall. Estas métricas son calculadas internamente por NILMTK mediante la matriz de confusión, vease la ecuación de la figura siguiente."
   ]
  },
  {
   "cell_type": "markdown",
   "metadata": {},
   "source": [
    "![metricas](metricas.jpg)"
   ]
  },
  {
   "cell_type": "markdown",
   "metadata": {},
   "source": [
    "Precision se entiende como la fracción de cortes de tiempo en los que se predijo correctamente que un proceso estaba activo, pero realmente se encontraba apagado. Por lo contrario, Recall hace referencia a la fracción de cortes de tiempo en los que se predijo correctamente que el dispositivo estaba encendido y realmente se encontraba encendido ."
   ]
  },
  {
   "cell_type": "code",
   "execution_count": null,
   "metadata": {},
   "outputs": [],
   "source": [
    "pd.DataFrame(metrics.loc['F1']).transpose()*100"
   ]
  },
  {
   "cell_type": "code",
   "execution_count": null,
   "metadata": {},
   "outputs": [],
   "source": [
    "rcParams['figure.figsize'] = (10, 4)\n",
    "t0='2022-02-02 11:00:00+01:00' #tiempo inicial\n",
    "t1='2022-02-02 12:00:00+01:00' #tiempo final\n",
    "fig, ax1 = plt.subplots();\n",
    "ax1=gt['fan'].plot(lw=4, c='tab:orange')\n",
    "pred_CO['fan'].plot(ax=ax1, c='darkred', lw=1.5, ls='--')\n",
    "ax1.legend(labels=['fan','Pred_CO'], fontsize=9, loc='upper left', ncol=1)\n",
    "ax1.set_ylim(-10,250)\n",
    "ax1.set_xlim(t0,t1)\n",
    "ax1.minorticks_off()\n",
    "ax1.set_xticklabels(labels=['10:00','10:10','10:20','10:30','10:40','10:50','11:00','11:15'] , horizontalalignment ='right')  \n",
    "\n",
    "ax1.set_ylabel('Power (W)')\n",
    "\n",
    "#ax1.annotate('TP', xy=(250, 188), xycoords='figure points', xytext=(285, 210), fontweight='bold',\n",
    "#             arrowprops=dict(facecolor='red', width=3, headwidth=10))\n",
    "#ax1.annotate('TN', xy=(320, 38), xycoords='figure points', xytext=(400, 70), fontweight='bold',\n",
    "#             arrowprops=dict(facecolor='red', width=3, headwidth=10))\n",
    "#ax1.annotate('FN', xy=(300, 38), xycoords='figure points', xytext=(530, 70), fontweight='bold',\n",
    "#             arrowprops=dict(facecolor='red', width=3, headwidth=10))\n",
    "#ax1.annotate('FP', xy=(187, 188), xycoords='figure points', xytext=(220, 210), fontweight='bold',\n",
    "#             arrowprops=dict(facecolor='red', width=3, headwidth=10))\n",
    "\n",
    "\n",
    "plt.savefig('./data/images/5.5_F1_CO_30s.svg', bbox_inches='tight', transparent=True)\n",
    "pass"
   ]
  },
  {
   "cell_type": "code",
   "execution_count": null,
   "metadata": {},
   "outputs": [],
   "source": [
    "rcParams['figure.figsize'] = (10, 4)\n",
    "t0='2022-02-02 11:00:00+01:00' #tiempo inicial\n",
    "t1='2022-02-02 12:00:00+01:00' #tiempo final\n",
    "fig, ax1 = plt.subplots();\n",
    "ax1=gt['freezer'].plot(lw=4, c='tab:orange')\n",
    "pred_CO['freezer'].plot(ax=ax1, c='darkred', lw=1.5, ls='--')\n",
    "ax1.legend(labels=['freezer','Pred_CO'], fontsize=9, loc='upper left', ncol=1)\n",
    "ax1.set_ylim(-10,250)\n",
    "ax1.set_xlim(t0,t1)\n",
    "ax1.minorticks_off()\n",
    "ax1.set_xticklabels(labels=['10:00','10:10','10:20','10:30','10:40','10:50','11:00','11:15'] , horizontalalignment ='right')  \n",
    "\n",
    "ax1.set_ylabel('Power (W)')\n",
    "#ax1.annotate('TP', xy=(250, 188), xycoords='figure points', xytext=(285, 210), fontweight='bold',\n",
    "#             arrowprops=dict(facecolor='red', width=3, headwidth=10))\n",
    "#ax1.annotate('TN', xy=(320, 38), xycoords='figure points', xytext=(400, 70), fontweight='bold',\n",
    "#             arrowprops=dict(facecolor='red', width=3, headwidth=10))\n",
    "#ax1.annotate('FN', xy=(300, 38), xycoords='figure points', xytext=(530, 70), fontweight='bold',\n",
    "#             arrowprops=dict(facecolor='red', width=3, headwidth=10))\n",
    "#ax1.annotate('FP', xy=(187, 188), xycoords='figure points', xytext=(220, 210), fontweight='bold',\n",
    "#             arrowprops=dict(facecolor='red', width=3, headwidth=10))\n",
    "plt.savefig('./data/images/5.5_F1_CO_60s.svg', bbox_inches='tight', transparent=True)\n",
    "pass"
   ]
  },
  {
   "cell_type": "code",
   "execution_count": null,
   "metadata": {},
   "outputs": [],
   "source": [
    "rcParams['figure.figsize'] = (10, 4)\n",
    "t0='2022-02-02 11:00:00+01:00' #tiempo inicial\n",
    "t1='2022-02-02 12:00:00+01:00' #tiempo final\n",
    "fig, ax1 = plt.subplots();\n",
    "ax1=gt['television'].plot(lw=4, c='tab:orange')\n",
    "pred_CO['television'].plot(ax=ax1, c='darkred', lw=1.5, ls='--')\n",
    "ax1.legend(labels=['television','Pred_CO'], fontsize=9, loc='upper left', ncol=1)\n",
    "ax1.set_ylim(-10,150)\n",
    "ax1.set_xlim(t0,t1)\n",
    "ax1.minorticks_off()\n",
    "\n",
    "ax1.set_xticklabels(labels=['10:00','10:10','10:20','10:30','10:40','10:50','11:00','11:15'] , horizontalalignment ='right')  \n",
    "ax1.set_ylabel('Power (W)')\n",
    "#ax1.annotate('TP', xy=(250, 188), xycoords='figure points', xytext=(285, 210), fontweight='bold',\n",
    "#             arrowprops=dict(facecolor='red', width=3, headwidth=10))\n",
    "#ax1.annotate('TN', xy=(320, 38), xycoords='figure points', xytext=(400, 70), fontweight='bold',\n",
    "#             arrowprops=dict(facecolor='red', width=3, headwidth=10))\n",
    "#ax1.annotate('FN', xy=(300, 38), xycoords='figure points', xytext=(530, 70), fontweight='bold',\n",
    "#             arrowprops=dict(facecolor='red', width=3, headwidth=10))\n",
    "#ax1.annotate('FP', xy=(187, 188), xycoords='figure points', xytext=(220, 210), fontweight='bold',\n",
    "#             arrowprops=dict(facecolor='red', width=3, headwidth=10))\n",
    "plt.savefig('./data/images/5.5_F1_CO_60s.svg', bbox_inches='tight', transparent=True)\n",
    "pass"
   ]
  },
  {
   "cell_type": "code",
   "execution_count": null,
   "metadata": {},
   "outputs": [],
   "source": [
    "rcParams['figure.figsize'] = (10, 4)\n",
    "t0='2022-02-02 11:00:00+01:00' #tiempo inicial\n",
    "t1='2022-02-02 12:00:00+01:00' #tiempo final\n",
    "fig, ax1 = plt.subplots();\n",
    "ax1=gt['vacuum cleaner'].plot(lw=4, c='tab:orange')\n",
    "pred_CO['vacuum cleaner'].plot(ax=ax1, c='darkred', lw=1.5, ls='--')\n",
    "ax1.legend(labels=['vacuum cleaner','Pred_CO'], fontsize=9, loc='upper left', ncol=1)\n",
    "ax1.set_ylim(-10,1650)\n",
    "ax1.set_xlim(t0,t1)\n",
    "ax1.minorticks_off()\n",
    "\n",
    "ax1.set_xticklabels(labels=['10:00','10:10','10:20','10:30','10:40','10:50','11:00','11:15'] , horizontalalignment ='right')  \n",
    "\n",
    "ax1.set_ylabel('Power (W)')\n",
    "#ax1.annotate('TP', xy=(250, 188), xycoords='figure points', xytext=(285, 210), fontweight='bold',\n",
    "#             arrowprops=dict(facecolor='red', width=3, headwidth=10))\n",
    "#ax1.annotate('TN', xy=(320, 38), xycoords='figure points', xytext=(400, 70), fontweight='bold',\n",
    "#             arrowprops=dict(facecolor='red', width=3, headwidth=10))\n",
    "#ax1.annotate('FN', xy=(300, 38), xycoords='figure points', xytext=(530, 70), fontweight='bold',\n",
    "#             arrowprops=dict(facecolor='red', width=3, headwidth=10))\n",
    "#ax1.annotate('FP', xy=(187, 188), xycoords='figure points', xytext=(220, 210), fontweight='bold',\n",
    "#             arrowprops=dict(facecolor='red', width=3, headwidth=10))\n",
    "plt.savefig('./data/images/5.5_F1_CO_60s.svg', bbox_inches='tight', transparent=True)\n",
    "pass"
   ]
  },
  {
   "cell_type": "code",
   "execution_count": null,
   "metadata": {},
   "outputs": [],
   "source": [
    "rcParams['figure.figsize'] = (10, 4)\n",
    "t0='2022-02-02 11:00:00+01:00' #tiempo inicial\n",
    "t1='2022-02-02 12:00:00+01:00' #tiempo final\n",
    "fig, ax1 = plt.subplots();\n",
    "ax1=gt['boiler'].plot(lw=4, c='tab:orange')\n",
    "pred_CO['boiler'].plot(ax=ax1, c='darkred', lw=1.5, ls='--')\n",
    "ax1.legend(labels=['boiler','Pred_CO'], fontsize=9, loc='upper left', ncol=1)\n",
    "ax1.set_ylim(-10,1650)\n",
    "ax1.set_xlim(t0,t1)\n",
    "ax1.minorticks_off()\n",
    "\n",
    "ax1.set_xticklabels(labels=['10:00','10:10','10:20','10:30','10:40','10:50','11:00','11:15'] , horizontalalignment ='right')  \n",
    "\n",
    "ax1.set_ylabel('Power (W)')\n",
    "#ax1.annotate('TP', xy=(250, 188), xycoords='figure points', xytext=(285, 210), fontweight='bold',\n",
    "#             arrowprops=dict(facecolor='red', width=3, headwidth=10))\n",
    "#ax1.annotate('TN', xy=(320, 38), xycoords='figure points', xytext=(400, 70), fontweight='bold',\n",
    "#             arrowprops=dict(facecolor='red', width=3, headwidth=10))\n",
    "#ax1.annotate('FN', xy=(300, 38), xycoords='figure points', xytext=(530, 70), fontweight='bold',\n",
    "#             arrowprops=dict(facecolor='red', width=3, headwidth=10))\n",
    "#ax1.annotate('FP', xy=(187, 188), xycoords='figure points', xytext=(220, 210), fontweight='bold',\n",
    "#             arrowprops=dict(facecolor='red', width=3, headwidth=10))\n",
    "plt.savefig('./data/images/5.5_F1_CO_60s.svg', bbox_inches='tight', transparent=True)\n",
    "pass"
   ]
  },
  {
   "cell_type": "markdown",
   "metadata": {},
   "source": [
    "## Métrica EAE"
   ]
  },
  {
   "cell_type": "markdown",
   "metadata": {},
   "source": [
    "La ecuación de la figura representa la diferencia entre la energía total asignada yˆt(n) energía total consumida yt(n) por el proceso n de la industria en kWh "
   ]
  },
  {
   "cell_type": "markdown",
   "metadata": {},
   "source": [
    "![metricas](metricas.jpg)"
   ]
  },
  {
   "cell_type": "code",
   "execution_count": null,
   "metadata": {},
   "outputs": [],
   "source": [
    "round(pd.DataFrame(metrics.loc['EAE']).transpose(),2)"
   ]
  },
  {
   "cell_type": "code",
   "execution_count": null,
   "metadata": {},
   "outputs": [],
   "source": [
    "predictions_Devices=elec_CO_30s_first.submeters()\n",
    "e1=predictions_Devices[5].total_energy()[0]\n",
    "e2=valid_Devices[5].total_energy()[0]\n",
    "eae=round(abs(e1-e2),2)\n",
    "\n",
    "pd.DataFrame([e1,e2,eae], columns=['kWh'], index=['Energy_pred','Energy_GT','EAE'])"
   ]
  },
  {
   "cell_type": "markdown",
   "metadata": {},
   "source": [
    "## Métrica MNEAP"
   ]
  },
  {
   "cell_type": "markdown",
   "metadata": {},
   "source": [
    "Este indicador que representa la ecuacion de la imagen  consta de la diferencia entre la potencia asignada yˆt(n) y la potencia real yt(n) de cada proceso de la industria, por cada intervalo de tiempo t. Después de sumar todas las diferencias de potencia, el resultado es normalizado por el consumo total de la energía del proceso "
   ]
  },
  {
   "cell_type": "markdown",
   "metadata": {},
   "source": [
    "![metricas](metricas.jpg)"
   ]
  },
  {
   "cell_type": "code",
   "execution_count": null,
   "metadata": {},
   "outputs": [],
   "source": [
    "round(pd.DataFrame(metrics.loc['MNEAP']).transpose(),2)"
   ]
  },
  {
   "cell_type": "code",
   "execution_count": null,
   "metadata": {},
   "outputs": [],
   "source": [
    "rcParams['figure.figsize'] = (10, 3)\n",
    "fig, ax1 = plt.subplots();\n",
    "\n",
    "#umbrales de potencia\n",
    "a1=[20,1250]\n",
    "\n",
    "gt['fan'][a1[0]:a1[1]].plot(ax=ax1, lw=2, c='tab:purple', marker=\"D\")\n",
    "pred_CO['fan'][a1[0]:a1[1]].plot(ax=ax1, c='darkred', lw=1, ls='--', marker=\"D\")\n",
    "\n",
    "ax1.minorticks_off()\n",
    "ax1.set_ylabel('Power (W)')\n",
    "ax1.legend(labels=['GT fan','Pred_CO'], fontsize=9, ncol=1)\n",
    "\n",
    "err= abs(round((gt['fan'][a1[0]:a1[1]]-pred_CO['fan'][a1[0]:a1[1]])[1:6],1))\n",
    "\n",
    "aux=40\n",
    "i=0\n",
    "for e in err:\n",
    "    ax1.annotate((str(err[i])+'W'), xy=(aux, 140+(abs(err[i]))*0.2), xycoords='axes points', size=10)\n",
    "    aux=aux+63\n",
    "    i=i+1\n",
    "\n",
    "\n",
    "ax1.set_xticklabels(labels=['10:00','10:30','11:00','11:30','12:00','12:30','13:00','13:30','14:00',''])   \n",
    "#plt.savefig('./data/images/5.6_MNEAP_CO_30s.svg', bbox_inches='tight', transparent=True)\n",
    "pass"
   ]
  },
  {
   "cell_type": "code",
   "execution_count": null,
   "metadata": {},
   "outputs": [],
   "source": [
    "rcParams['figure.figsize'] = (10, 3)\n",
    "fig, ax1 = plt.subplots();\n",
    "\n",
    "#umbrales de potencia\n",
    "a1=[20,1250]\n",
    "\n",
    "gt['freezer'][a1[0]:a1[1]].plot(ax=ax1, lw=2, c='tab:purple', marker=\"D\")\n",
    "pred_CO['freezer'][a1[0]:a1[1]].plot(ax=ax1, c='darkred', lw=1, ls='--', marker=\"D\")\n",
    "\n",
    "ax1.minorticks_off()\n",
    "ax1.set_ylabel('Power (W)')\n",
    "ax1.legend(labels=['GT freezer','Pred_CO'], fontsize=9, ncol=1)\n",
    "\n",
    "err= abs(round((gt['freezer'][a1[0]:a1[1]]-pred_CO['freezer'][a1[0]:a1[1]])[1:6],1))\n",
    "\n",
    "aux=40\n",
    "i=0\n",
    "for e in err:\n",
    "    ax1.annotate((str(err[i])+'W'), xy=(aux, 140+(abs(err[i]))*0.2), xycoords='axes points', size=10)\n",
    "    aux=aux+63\n",
    "    i=i+1\n",
    "\n",
    "\n",
    "ax1.set_xticklabels(labels=['10:00','10:30','11:00','11:30','12:00','12:30','13:00','13:30','14:00',''])   \n",
    "#plt.savefig('./data/images/5.6_MNEAP_CO_30s.svg', bbox_inches='tight', transparent=True)\n",
    "pass"
   ]
  },
  {
   "cell_type": "code",
   "execution_count": null,
   "metadata": {},
   "outputs": [],
   "source": [
    "rcParams['figure.figsize'] = (10, 3)\n",
    "fig, ax1 = plt.subplots();\n",
    "\n",
    "#umbrales de potencia\n",
    "a1=[20,1250]\n",
    "\n",
    "gt['television'][a1[0]:a1[1]].plot(ax=ax1, lw=2, c='tab:purple', marker=\"D\")\n",
    "pred_CO['television'][a1[0]:a1[1]].plot(ax=ax1, c='darkred', lw=1, ls='--', marker=\"D\")\n",
    "\n",
    "ax1.minorticks_off()\n",
    "ax1.set_ylabel('Power (W)')\n",
    "ax1.legend(labels=['GT tv','Pred_CO'], fontsize=9, ncol=1)\n",
    "\n",
    "err= abs(round((gt['television'][a1[0]:a1[1]]-pred_CO['television'][a1[0]:a1[1]])[1:6],1))\n",
    "\n",
    "aux=40\n",
    "i=0\n",
    "for e in err:\n",
    "    ax1.annotate((str(err[i])+'W'), xy=(aux, 130+(abs(err[i]))*0.2), xycoords='axes points', size=10)\n",
    "    aux=aux+63\n",
    "    i=i+1\n",
    "\n",
    "\n",
    "ax1.set_xticklabels(labels=['10:00','10:30','11:00','11:30','12:00','12:30','13:00','13:30','14:00',''])   \n",
    "#plt.savefig('./data/images/5.6_MNEAP_CO_30s.svg', bbox_inches='tight', transparent=True)\n",
    "pass"
   ]
  },
  {
   "cell_type": "code",
   "execution_count": null,
   "metadata": {},
   "outputs": [],
   "source": [
    "rcParams['figure.figsize'] = (10, 3)\n",
    "fig, ax1 = plt.subplots();\n",
    "\n",
    "#umbrales de potencia\n",
    "a1=[20,1250]\n",
    "\n",
    "gt['vacuum cleaner'][a1[0]:a1[1]].plot(ax=ax1, lw=2, c='tab:purple', marker=\"D\")\n",
    "pred_CO['vacuum cleaner'][a1[0]:a1[1]].plot(ax=ax1, c='darkred', lw=1, ls='--', marker=\"D\")\n",
    "\n",
    "ax1.minorticks_off()\n",
    "ax1.set_ylabel('Power (W)')\n",
    "ax1.legend(labels=['GT vacuum cleaner','Pred_CO'], fontsize=9, ncol=1)\n",
    "\n",
    "err= abs(round((gt['vacuum cleaner'][a1[0]:a1[1]]-pred_CO['vacuum cleaner'][a1[0]:a1[1]])[1:6],1))\n",
    "\n",
    "aux=40\n",
    "i=0\n",
    "for e in err:\n",
    "    ax1.annotate((str(err[i])+'W'), xy=(aux, 140+(abs(err[i]))*0.2), xycoords='axes points', size=10)\n",
    "    aux=aux+63\n",
    "    i=i+1\n",
    "\n",
    "\n",
    "ax1.set_xticklabels(labels=['10:00','10:30','11:00','11:30','12:00','12:30','13:00','13:30','14:00',''])   \n",
    "#plt.savefig('./data/images/5.6_MNEAP_CO_30s.svg', bbox_inches='tight', transparent=True)\n",
    "pass"
   ]
  },
  {
   "cell_type": "code",
   "execution_count": null,
   "metadata": {},
   "outputs": [],
   "source": [
    "rcParams['figure.figsize'] = (10, 3)\n",
    "fig, ax1 = plt.subplots();\n",
    "\n",
    "#umbrales de potencia\n",
    "a1=[20,1250]\n",
    "\n",
    "gt['boiler'][a1[0]:a1[1]].plot(ax=ax1, lw=2, c='tab:purple', marker=\"D\")\n",
    "pred_CO['boiler'][a1[0]:a1[1]].plot(ax=ax1, c='darkred', lw=1, ls='--', marker=\"D\")\n",
    "\n",
    "ax1.minorticks_off()\n",
    "ax1.set_ylabel('Power (W)')\n",
    "ax1.legend(labels=['GT boiler','Pred_CO'], fontsize=9, ncol=1)\n",
    "\n",
    "err= abs(round((gt['boiler'][a1[0]:a1[1]]-pred_CO['boiler'][a1[0]:a1[1]])[1:6],1))\n",
    "\n",
    "aux=40\n",
    "i=0\n",
    "for e in err:\n",
    "    ax1.annotate((str(err[i])+'W'), xy=(aux, 140+(abs(err[i]))*0.2), xycoords='axes points', size=10)\n",
    "    aux=aux+63\n",
    "    i=i+1\n",
    "\n",
    "\n",
    "ax1.set_xticklabels(labels=['10:00','10:30','11:00','11:30','12:00','12:30','13:00','13:30','14:00',''])   \n",
    "#plt.savefig('./data/images/5.6_MNEAP_CO_30s.svg', bbox_inches='tight', transparent=True)\n",
    "pass"
   ]
  },
  {
   "cell_type": "markdown",
   "metadata": {},
   "source": [
    "## Métrica RMSE"
   ]
  },
  {
   "cell_type": "markdown",
   "metadata": {},
   "source": [
    "Esta métrica de la ecuación de la figura es muy utilizada en la comparaciónn de diversos conjuntos de datos, consiste en el error cuadrático medio de la diferencia entre la potencia asignada yˆt(n) y la potencia real yt(n) del proceso de los applicativos , en cada intervalo de tiempo t ."
   ]
  },
  {
   "cell_type": "markdown",
   "metadata": {},
   "source": [
    "![metricas](metricas.jpg)"
   ]
  },
  {
   "cell_type": "code",
   "execution_count": null,
   "metadata": {},
   "outputs": [],
   "source": [
    "round(pd.DataFrame(metrics.loc['RMSE']).transpose(),1)"
   ]
  },
  {
   "cell_type": "markdown",
   "metadata": {},
   "source": [
    "## Resultados de todos los modelos"
   ]
  },
  {
   "cell_type": "code",
   "execution_count": null,
   "metadata": {},
   "outputs": [],
   "source": [
    "from nilmtk.metrics import fraction_energy_assigned_correctly, f1_score, error_in_assigned_energy\n",
    "from nilmtk.metrics import mean_normalized_error_power, rms_error_power \n",
    "periods = {'1s':1,'10s':10 , '30s':30, '60s':60, '5min':60*5, '10min':60*10, '15min':60*15}\n",
    "\n",
    "dir_predictions = data_dir +'NILM/Results/'\n",
    "m = {}\n",
    "classifiers = ['CO', 'FHMM']\n",
    "methods = ['first', 'mean', 'median']\n",
    "index = list(labels['Meters'][1:7])\n",
    "#index = list(labels['Meters'][1:6])\n",
    "\n",
    "for p_name, sp in periods.items():\n",
    "    met = []\n",
    "    for method in methods:\n",
    "        for clf_name in classifiers:\n",
    "            print('\\nCalculando Metricas: '+ clf_name + '_' + p_name + '_' + method)  \n",
    "           \n",
    "            #Datos de Dispositivos: predicción\n",
    "            input_dir = dir_predictions + clf_name + '_' + p_name + '_' + method +'_pred.h5'\n",
    "            dataset = DataSet(input_dir)\n",
    "            predictions=dataset.buildings[1].elec.submeters()       \n",
    "            \n",
    "            #Metricas\n",
    "            f1 = {}; eae = {}; feac = {}; mneap = {}; rmse = {}; e=[];  \n",
    "            F1 = f1_score(predictions, valid_Devices)\n",
    "            f1['F1'] = F1*100\n",
    "            EAE = error_in_assigned_energy(predictions, valid_Devices)\n",
    "            \n",
    "            for x in range(len(EAE)): e.append(EAE.iloc[x][0])\n",
    "            eae['EAE'] = e\n",
    "            #da error para FEAC\n",
    "            #feac['FEAC'] = 100*np.ones(6)*(fraction_energy_assigned_correctly(predictions, valid_Devices))\n",
    "            mneap['MNEAP'] = mean_normalized_error_power(predictions, valid_Devices)\n",
    "            rmse['RMSE'] = rms_error_power(predictions, valid_Devices)\n",
    "            met.append(pd.concat([pd.DataFrame(feac, index=valid_Devices.instance()),\n",
    "                                  pd.DataFrame(f1),\n",
    "                                  pd.DataFrame(eae, index=valid_Devices.instance()),\n",
    "                                  pd.DataFrame(mneap),\n",
    "                                  pd.DataFrame(rmse)],\n",
    "                                 axis=1).set_index(pd.Index(index)))\n",
    "            dataset.store.close()        \n",
    "    m[p_name] = met\n",
    "\n",
    "##Guardamos resultados\n",
    "f = open(data_dir +'NILM/metrics.txt',\"w\")\n",
    "f.write( str(m) )\n",
    "f.close()\n",
    "print('\\n\\nDone!')\n"
   ]
  },
  {
   "cell_type": "markdown",
   "metadata": {},
   "source": [
    "## Otras Metricas: métricas Promedio"
   ]
  },
  {
   "cell_type": "code",
   "execution_count": null,
   "metadata": {},
   "outputs": [],
   "source": [
    "m_mean = {}\n",
    "\n",
    "#cols=['FEAC','F1','EAE','MNEAP','RMSE']\n",
    "\n",
    "cols=['F1','EAE','MNEAP','RMSE']\n",
    "labels=['CO-first', 'CO-mean', 'CO-median', 'FHMM-first', 'FHMM-mean' ,'FHMM-median']\n",
    "per=['1s','10s','30s','60s','5min','10min','15min']\n",
    "\n",
    "for c in cols:\n",
    "    m_mean[c] = pd.DataFrame([#CO FIRST\n",
    "                             [m['1s'][0][c].mean(),m['10s'][0][c].mean(),m['30s'][0][c].mean(),m['60s'][0][c].mean(),\n",
    "                              m['5min'][0][c].mean(),m['10min'][0][c].mean(),\n",
    "                              m['15min'][0][c].mean()],\n",
    "                              #CO MEAN\n",
    "                             [m['1s'][2][c].mean(),m['10s'][2][c].mean(),m['30s'][2][c].mean(),m['60s'][2][c].mean(),\n",
    "                              m['5min'][2][c].mean(),m['10min'][2][c].mean(),\n",
    "                              m['15min'][2][c].mean()],\n",
    "                              #CO MEDIAN\n",
    "                             [m['1s'][4][c].mean(),m['10s'][4][c].mean(),m['30s'][4][c].mean(),m['60s'][4][c].mean(),\n",
    "                              m['5min'][4][c].mean(),m['10min'][4][c].mean(),\n",
    "                              m['15min'][4][c].mean()],\n",
    "                             #FHMM FIRST\n",
    "                             [m['1s'][1][c].mean(),m['10s'][1][c].mean(),m['30s'][1][c].mean(),m['60s'][1][c].mean(),\n",
    "                             m['5min'][1][c].mean(),m['10min'][1][c].mean(),\n",
    "                              m['15min'][1][c].mean()],\n",
    "                             #FHMM MEAN            \n",
    "                             [m['1s'][3][c].mean(),m['10s'][3][c].mean(),m['30s'][3][c].mean(),m['60s'][3][c].mean(),\n",
    "                              m['5min'][3][c].mean(),m['10min'][3][c].mean(),\n",
    "                              m['15min'][3][c].mean()],\n",
    "                             #FHMM MEDIAN\n",
    "                             [m['1s'][5][c].mean(),m['10s'][5][c].mean(),m['30s'][5][c].mean(),m['60s'][5][c].mean(),\n",
    "                              m['5min'][5][c].mean(),m['10min'][5][c].mean(),\n",
    "                              m['15min'][5][c].mean()]],columns=per, index=labels).transpose()\n",
    "m_mean\n"
   ]
  },
  {
   "cell_type": "markdown",
   "metadata": {},
   "source": [
    "## Maximos\n"
   ]
  },
  {
   "cell_type": "code",
   "execution_count": null,
   "metadata": {},
   "outputs": [],
   "source": [
    "cols=['F1','EAE','MNEAP','RMSE']\n",
    "\n",
    "maxs=pd.concat([m_mean['F1'].transpose().max(),\n",
    "                m_mean['EAE'].transpose().min(),\n",
    "                m_mean['MNEAP'].transpose().min(),\n",
    "                m_mean['RMSE'].transpose().min()], axis=1)\n",
    "maxs.columns=cols\n",
    "maxs = maxs.transpose()\n",
    "round(maxs,2)"
   ]
  },
  {
   "cell_type": "markdown",
   "metadata": {},
   "source": [
    "## Correspondencia de Indice"
   ]
  },
  {
   "cell_type": "code",
   "execution_count": null,
   "metadata": {},
   "outputs": [],
   "source": [
    "cols=['F1','EAE','MNEAP','RMSE']\n",
    "\n",
    "maxs_i=pd.concat([m_mean['F1'].transpose().idxmax(),\n",
    "                 m_mean['EAE'].transpose().idxmin(),\n",
    "                 m_mean['MNEAP'].transpose().idxmin(),\n",
    "                 m_mean['RMSE'].transpose().idxmin()], axis=1)\n",
    "maxs_i.columns=cols\n",
    "maxs_i = maxs_i.transpose()\n",
    "maxs_i"
   ]
  },
  {
   "cell_type": "code",
   "execution_count": null,
   "metadata": {},
   "outputs": [],
   "source": [
    "rcParams['figure.figsize'] = (10, 11.5)\n",
    "fig, (ax2,ax3,ax4,ax5) = plt.subplots(4, 1, sharex=True, gridspec_kw={'hspace': 0.35})\n",
    "cols=['F1','EAE','MNEAP','RMSE']\n",
    "ylabels=['[%]','[%]','[kWh]','[-]','[W]']\n",
    "per=['1s','10s','30s','60s','5min','10min','15min']\n",
    "\n",
    "labels={'CO-first':-0.35, 'CO-mean':-0.22, 'CO-median':-0.11, 'FHMM-first':0.01, 'FHMM-mean':0.13 ,'FHMM-median':0.245}\n",
    "\n",
    "c=0\n",
    "for ax in fig.get_axes():      \n",
    "    m_mean[cols[c]].plot.bar(ax=ax, width=0.7, edgecolor='black', linewidth=0.5, legend=False, cmap=\"jet\")\n",
    "    ax.set(ylabel=ylabels[c])\n",
    "    ax.grid(b=None)\n",
    "    x = 0\n",
    "    for p in per:\n",
    "        ax.annotate(\"▼\", xy=(labels[maxs_i[p][cols[c]]]+x, maxs[p][cols[c]]+maxs[p][cols[c]]*0.03))\n",
    "        x+=1\n",
    "    c+=1\n",
    "    \n",
    "ax5.set_xticklabels(labels=per, rotation=0, fontdict={'fontsize':12})\n",
    "fig.align_ylabels([(ax2,ax3,ax4,ax5)])\n",
    "ax2.set(ylim=(0,120))\n",
    "ax2.set_yticks([0,25,50,75,100])\n",
    "\n",
    "ax5.set_yticks([0,50,100,150,200])\n",
    "\n",
    "ax2.set_title('F1-Score', fontsize=11, loc='center')\n",
    "ax3.set_title('Error in Assigned Energy - EAE', fontsize=11, loc='center')\n",
    "ax4.set_title('Mean Normalised Error in Assigned Power - MNEAP', fontsize=11, loc='center')\n",
    "ax5.set_title('RMS Error in Assigned Power - RMSE', fontsize=11, loc='center')\n",
    "lgd = ax5.legend(labels.keys(), loc='lower center', ncol=6, bbox_to_anchor=(0.5, -0.6),fontsize=9.5)\n",
    "\n",
    "\n",
    "#ax2.annotate(\"90.5%\", xy=(0.68, 98)); #30s FHMM-mean\n",
    "#ax3.annotate(\"0.19\", xy=(6.22, 1.4)); #30min FHMM-median\n",
    "ax3.annotate(\"kWh\", xy=(6.22, 0.9)); #30min FHMM-median\n",
    "#ax4.annotate(\"0.24\", xy=(6.22, 0.7)); #30min FHMM-median\n",
    "#ax5.annotate(\"41.5\", xy=(6.22, 120)); #30min FHMM-median\n",
    "ax5.annotate(\"   W\", xy=(6.22, 90)); #30min FHMM-median\n",
    "\n",
    "\n",
    "plt.savefig('./data/images/5.7_All_metrics.svg', bbox_inches='tight', transparent=True)\n",
    "\n",
    "pass"
   ]
  },
  {
   "cell_type": "code",
   "execution_count": null,
   "metadata": {},
   "outputs": [],
   "source": [
    "#elegimos el  algoritmo CO  ( de ahi los indices 0,2 y 4)\n",
    "rcParams['figure.figsize'] = (10, 8)\n",
    "\n",
    "fig, (ax2,ax3,ax4,ax5) = plt.subplots(4, 1, sharex=False, gridspec_kw={'hspace': 0.35})\n",
    "\n",
    "#cols=['FEAC','F1','EAE','MNEAP','RMSE']\n",
    "cols=['F1','EAE','MNEAP','RMSE']\n",
    "\n",
    "ylabels=['[%]','[%]','[kWh]','[-]','[W]']\n",
    "labels=['CO-first', 'CO-mean' ,'CO-median']\n",
    "c=0\n",
    "\n",
    "for ax in fig.get_axes():\n",
    "    \n",
    "    #df=pd.DataFrame([m['30s'][1][cols[c]],m['30s'][3][cols[c]],m['30s'][5][cols[c]]]).transpose()\n",
    "    df=pd.DataFrame([m['1s'][0][cols[c]],m['1s'][2][cols[c]],m['1s'][4][cols[c]]]).transpose()\n",
    "   \n",
    "    df.plot.bar(ax=ax, width=0.7, edgecolor='black', linewidth=0.5, legend=False,   color=['greenyellow','darkorange','maroon'])\n",
    "    ax.set(ylabel=ylabels[c])\n",
    "    ax.grid(b=None)\n",
    "    c+=1   \n",
    "    \n",
    "\n",
    "ax2.set_xticklabels('')\n",
    "ax3.set_xticklabels('')\n",
    "ax4.set_xticklabels('')\n",
    "ax5.set_xticklabels(ax5.get_xticklabels(), rotation=0, fontdict={'fontsize':12})\n",
    "fig.align_ylabels([(ax1,ax2,ax3,ax4,ax5)])\n",
    "ax3.set_yticks([0,1,2,3,4])\n",
    "ax4.set(ylim=(0,1.8))\n",
    "ax4.set_yticks([0,0.5,1,1.5,2])\n",
    "ax5.set(ylim=(0,270))\n",
    "ax5.set_yticks([0,100,200,300])\n",
    "ax2.set_title('F1-Score', fontsize=11, loc='center')\n",
    "ax3.set_title('Error in Assigned Energy - EAE', fontsize=11, loc='center')\n",
    "ax4.set_title('Mean Normalised Error in Assigned Power - MNEAP', fontsize=11, loc='center')\n",
    "ax5.set_title('RMS Error in Assigned Power - RMSE', fontsize=11, loc='center')\n",
    "lgd = ax5.legend(labels, loc='lower center', ncol=3, bbox_to_anchor=(0.5, -0.8))\n",
    "\n",
    "\n",
    "plt.savefig('./data/images/5.8_All_metrics_2.svg', bbox_inches='tight', transparent=True)\n",
    "\n",
    "pass"
   ]
  },
  {
   "cell_type": "code",
   "execution_count": null,
   "metadata": {},
   "outputs": [],
   "source": [
    "print('FHMM-first')\n",
    "print(m['1s'][1])\n",
    "print('\\nFHMM-mean')\n",
    "print(m['1s'][3])\n",
    "print('\\nFHMM-median')\n",
    "print(m['1s'][5])"
   ]
  },
  {
   "cell_type": "markdown",
   "metadata": {},
   "source": [
    "### Resultados del mejor modelo\n",
    "En vista de los resultados del obtenidos, se propone la elección del modelo FHMM entrenado con datos promedio de dispositivos cada 30 segundos. Este modelo solo se considera adecuado para la desagregación de datos promedio de potencia activa medidos en cabecera cada 30 segundos."
   ]
  },
  {
   "cell_type": "code",
   "execution_count": null,
   "metadata": {},
   "outputs": [],
   "source": [
    "rcParams['figure.figsize'] = (10, 8)\n",
    "\n",
    "fig, (ax2,ax3,ax4,ax5) = plt.subplots(4, 1, sharex=False, gridspec_kw={'hspace': 0.35})\n",
    "#cols=['FEAC','F1','EAE','MNEAP','RMSE']\n",
    "\n",
    "cols=['F1','EAE','MNEAP','RMSE']\n",
    "\n",
    "ylabels=['[%]','[%]','[kWh]','[-]','[W]']\n",
    "colors=['tab:red','tab:blue','tab:orange','tab:green','tab:olive','tab:purple','tab:cyan']\n",
    "c=0\n",
    "\n",
    "for ax in fig.get_axes():\n",
    "    df=pd.DataFrame(m['1s'][4][cols[c]])\n",
    "    df[cols[c]].plot.bar(ax=ax, width=0.7, edgecolor='black', linewidth=0.5, legend=False, color=colors)\n",
    "    ax.set(ylabel=ylabels[c])\n",
    "    ax.grid(b=None)\n",
    "    c+=1\n",
    "\n",
    "\n",
    "ax2.set_xticklabels('')\n",
    "ax3.set_xticklabels('')\n",
    "ax4.set_xticklabels('')\n",
    "ax5.set_xticklabels(ax5.get_xticklabels(), rotation=0, fontdict={'fontsize':12})\n",
    "\n",
    "fig.align_ylabels([(ax2,ax3,ax4,ax5)])\n",
    "\n",
    "ax2.set(ylim=(0,125))\n",
    "ax3.set(ylim=(0,1))\n",
    "ax4.set(ylim=(0,0.7))\n",
    "ax5.set(ylim=(0,110))\n",
    "\n",
    "ax2.set_yticks([0,25,50,75,100])\n",
    "ax3.set_yticks([0,1,2,3])\n",
    "ax4.set_yticks([0,1,2,3,4])\n",
    "ax5.set_yticks([0,50,100,150,200])\n",
    "\n",
    "\n",
    "ax2.set_title('F1-Score', fontsize=11, loc='center')\n",
    "ax3.set_title('Error in Assigned Energy - EAE', fontsize=11, loc='center')\n",
    "ax4.set_title('Mean Normalised Error in Assigned Power - MNEAP', fontsize=11, loc='center')\n",
    "ax5.set_title('RMS Error in Assigned Power - RMSE', fontsize=11, loc='center')\n",
    "\n",
    "df=pd.DataFrame(m['1s'][5])\n",
    "\n",
    "for x in range(5):ax2.annotate(str(round(df['F1'][x],1))+'%', xy=(x-0.18 , df['F1'][x]+4),fontsize=9.5)\n",
    "for x in range(5):ax3.annotate(str(round(df['EAE'][x],1))+' kWh', xy=(x-0.25 , df['EAE'][x]+0.1),fontsize=9.5)\n",
    "for x in range(5):ax4.annotate(str(round(df['MNEAP'][x],1)), xy=(x-0.08 , df['MNEAP'][x]+0.03),fontsize=9.5)\n",
    "for x in range(5):ax5.annotate(str(round(df['RMSE'][x]))+' W', xy=(x-0.18 , df['RMSE'][x]+5),fontsize=9.5)\n",
    "\n",
    "plt.savefig('./data/images/5.9_Metrics_FHMM_30min_median.svg', bbox_inches='tight', transparent=True)"
   ]
  },
  {
   "cell_type": "code",
   "execution_count": null,
   "metadata": {},
   "outputs": [],
   "source": [
    "valid_Devices.total_energy()"
   ]
  },
  {
   "cell_type": "code",
   "execution_count": 133,
   "metadata": {},
   "outputs": [
    {
     "name": "stdout",
     "output_type": "stream",
     "text": [
      "5/5 ElecMeter(instance=6, building=1, dataset='dsualmh', appliances=[Appliance(type='boiler', instance=1)])nce=1)])"
     ]
    },
    {
     "data": {
      "text/html": [
       "<div>\n",
       "<style scoped>\n",
       "    .dataframe tbody tr th:only-of-type {\n",
       "        vertical-align: middle;\n",
       "    }\n",
       "\n",
       "    .dataframe tbody tr th {\n",
       "        vertical-align: top;\n",
       "    }\n",
       "\n",
       "    .dataframe thead th {\n",
       "        text-align: right;\n",
       "    }\n",
       "</style>\n",
       "<table border=\"1\" class=\"dataframe\">\n",
       "  <thead>\n",
       "    <tr style=\"text-align: right;\">\n",
       "      <th></th>\n",
       "      <th>(2, 1, dsualmh)</th>\n",
       "      <th>(3, 1, dsualmh)</th>\n",
       "      <th>(4, 1, dsualmh)</th>\n",
       "      <th>(5, 1, dsualmh)</th>\n",
       "      <th>(6, 1, dsualmh)</th>\n",
       "    </tr>\n",
       "  </thead>\n",
       "  <tbody>\n",
       "    <tr>\n",
       "      <th>active</th>\n",
       "      <td>0.930978</td>\n",
       "      <td>0.023868</td>\n",
       "      <td>0.030272</td>\n",
       "      <td>0.022803</td>\n",
       "      <td>0.408538</td>\n",
       "    </tr>\n",
       "    <tr>\n",
       "      <th>apparent</th>\n",
       "      <td>NaN</td>\n",
       "      <td>NaN</td>\n",
       "      <td>NaN</td>\n",
       "      <td>NaN</td>\n",
       "      <td>NaN</td>\n",
       "    </tr>\n",
       "    <tr>\n",
       "      <th>reactive</th>\n",
       "      <td>NaN</td>\n",
       "      <td>NaN</td>\n",
       "      <td>NaN</td>\n",
       "      <td>NaN</td>\n",
       "      <td>NaN</td>\n",
       "    </tr>\n",
       "  </tbody>\n",
       "</table>\n",
       "</div>"
      ],
      "text/plain": [
       "          (2, 1, dsualmh)  (3, 1, dsualmh)  (4, 1, dsualmh)  (5, 1, dsualmh)  \\\n",
       "active           0.930978         0.023868         0.030272         0.022803   \n",
       "apparent              NaN              NaN              NaN              NaN   \n",
       "reactive              NaN              NaN              NaN              NaN   \n",
       "\n",
       "          (6, 1, dsualmh)  \n",
       "active           0.408538  \n",
       "apparent              NaN  \n",
       "reactive              NaN  "
      ]
     },
     "execution_count": 133,
     "metadata": {},
     "output_type": "execute_result"
    }
   ],
   "source": [
    "valid_Devices.energy_per_meter()"
   ]
  },
  {
   "cell_type": "markdown",
   "metadata": {},
   "source": [
    "### Replicando el entrenamiento del modelo"
   ]
  },
  {
   "cell_type": "code",
   "execution_count": 134,
   "metadata": {},
   "outputs": [
    {
     "name": "stdout",
     "output_type": "stream",
     "text": [
      "Training model for submeter 'ElecMeter(instance=2, building=1, dataset='dsualmh', appliances=[Appliance(type='fan', instance=1)])' with 1 states\n",
      "Training model for submeter 'ElecMeter(instance=3, building=1, dataset='dsualmh', appliances=[Appliance(type='freezer', instance=1)])' with 1 states\n",
      "Training model for submeter 'ElecMeter(instance=4, building=1, dataset='dsualmh', appliances=[Appliance(type='television', instance=1)])' with 1 states\n",
      "Training model for submeter 'ElecMeter(instance=5, building=1, dataset='dsualmh', appliances=[Appliance(type='vacuum cleaner', instance=1)])' with 1 states\n",
      "Training model for submeter 'ElecMeter(instance=6, building=1, dataset='dsualmh', appliances=[Appliance(type='boiler', instance=1)])' with 1 states\n",
      "\n",
      "\n",
      "Done!\n"
     ]
    }
   ],
   "source": [
    "from nilmtk import DataSet\n",
    "from nilmtk.legacy.disaggregate import FHMM\n",
    "\n",
    "\n",
    "train = DataSet('dsualmh.h5')\n",
    "\n",
    "train.set_window(start=\"2022-02-02 12:00:00\", end=\"2022-02-02 12:58:00\")\n",
    "train_elec=train.buildings[1].elec \n",
    "\n",
    "#dispositivos a entrenar: \n",
    "train_Devices=train_elec.select(instance=[2,3,4,5,6])\n",
    "\n",
    "#opcional: asignación manual de estados de dispositivos\n",
    "num_states={train_Devices[2]:2, train_Devices[3]:3, train_Devices[4]:4,\n",
    "            train_Devices[5]:5, train_Devices[6]:6}\n",
    "\n",
    "#entrenamiento y exportación del modelo\n",
    "FHMM_30s_median=FHMM()\n",
    "FHMM_30s_median.MIN_CHUNK_LENGTH=1\n",
    "FHMM_30s_median.train(train_Devices,\n",
    "                        num_states_dict={}, #en otro caso: { }\n",
    "                        ac_type='active',\n",
    "                        sample_period=1800,\n",
    "                        resample_kwargs={'how':'median'})\n",
    "\n",
    "\n",
    "#falla aqui al exportar el modelo\n",
    "#FHMM_30min_median.export_model('./data/FHMM_30s_median_model.pickle') \n",
    "#output=HDFDataStore(data_dir+'NILM/Results/'+model_name+'_'+sp_name+'_'+method+'_pred.h5', 'w')\n",
    "\n",
    "\n",
    "print('\\n\\nDone!')\n"
   ]
  },
  {
   "cell_type": "code",
   "execution_count": 135,
   "metadata": {},
   "outputs": [
    {
     "name": "stdout",
     "output_type": "stream",
     "text": [
      "Fan: [[2.69121599]]\n",
      "Freezer: [[8.4273243]]\n",
      "Television: [[0.4752062]]\n",
      "Vacuum Cleaner: [[25.87575912]]\n",
      "Boile: [[413.45390558]]\n"
     ]
    }
   ],
   "source": [
    "from nilmtk.legacy.disaggregate import FHMM\n",
    "FHMM=FHMM()\n",
    "#FHMM.import_model('C:/data/FHMM_30min_median_model.pickle') \n",
    "print('Fan: '+str(FHMM_30s_median.individual[valid_Devices[2]].means_))\n",
    "print('Freezer: '+str(FHMM_30s_median.individual[valid_Devices[3]].means_))\n",
    "print('Television: '+str(FHMM_30s_median.individual[valid_Devices[4]].means_))\n",
    "print('Vacuum Cleaner: '+str(FHMM_30s_median.individual[valid_Devices[5]].means_))\n",
    "print('Boile: '+str(FHMM_30s_median.individual[valid_Devices[6]].means_))\n"
   ]
  },
  {
   "cell_type": "code",
   "execution_count": 136,
   "metadata": {},
   "outputs": [
    {
     "data": {
      "text/plain": [
       "GaussianHMM(covariance_type='full')"
      ]
     },
     "execution_count": 136,
     "metadata": {},
     "output_type": "execute_result"
    }
   ],
   "source": [
    "FHMM_30s_median.model"
   ]
  },
  {
   "cell_type": "code",
   "execution_count": 137,
   "metadata": {},
   "outputs": [
    {
     "data": {
      "text/plain": [
       "OrderedDict([(ElecMeter(instance=2, building=1, dataset='dsualmh', appliances=[Appliance(type='fan', instance=1)]),\n",
       "              GaussianHMM(covariance_type='full')),\n",
       "             (ElecMeter(instance=3, building=1, dataset='dsualmh', appliances=[Appliance(type='freezer', instance=1)]),\n",
       "              GaussianHMM(covariance_type='full')),\n",
       "             (ElecMeter(instance=4, building=1, dataset='dsualmh', appliances=[Appliance(type='television', instance=1)]),\n",
       "              GaussianHMM(covariance_type='full')),\n",
       "             (ElecMeter(instance=5, building=1, dataset='dsualmh', appliances=[Appliance(type='vacuum cleaner', instance=1)]),\n",
       "              GaussianHMM(covariance_type='full')),\n",
       "             (ElecMeter(instance=6, building=1, dataset='dsualmh', appliances=[Appliance(type='boiler', instance=1)]),\n",
       "              GaussianHMM(covariance_type='full'))])"
      ]
     },
     "execution_count": 137,
     "metadata": {},
     "output_type": "execute_result"
    }
   ],
   "source": [
    "FHMM_30s_median.individual"
   ]
  },
  {
   "cell_type": "code",
   "execution_count": null,
   "metadata": {},
   "outputs": [],
   "source": []
  },
  {
   "cell_type": "code",
   "execution_count": null,
   "metadata": {},
   "outputs": [],
   "source": []
  },
  {
   "cell_type": "code",
   "execution_count": null,
   "metadata": {},
   "outputs": [],
   "source": []
  },
  {
   "cell_type": "code",
   "execution_count": null,
   "metadata": {},
   "outputs": [],
   "source": []
  },
  {
   "cell_type": "code",
   "execution_count": null,
   "metadata": {},
   "outputs": [],
   "source": []
  }
 ],
 "metadata": {
  "kernelspec": {
   "display_name": "Python 3",
   "language": "python",
   "name": "python3"
  },
  "language_info": {
   "codemirror_mode": {
    "name": "ipython",
    "version": 3
   },
   "file_extension": ".py",
   "mimetype": "text/x-python",
   "name": "python",
   "nbconvert_exporter": "python",
   "pygments_lexer": "ipython3",
   "version": "3.6.13"
  }
 },
 "nbformat": 4,
 "nbformat_minor": 4
}
